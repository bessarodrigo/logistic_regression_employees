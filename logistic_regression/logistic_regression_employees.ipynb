{
 "cells": [
  {
   "cell_type": "markdown",
   "id": "70d84e8b",
   "metadata": {},
   "source": [
    "# Predição de Saída de Funcionários com Regressão Logística\n",
    "\n",
    "## 📘 Dicionário de Dados\n",
    "\n",
    "| Variável                          | Descrição                                                                     |\n",
    "|----------------------------------|-------------------------------------------------------------------------------|\n",
    "| **ID**                           | Matrícula do funcionário                                                      |\n",
    "| **Funcionário_deixou_a_empresa** | Marcação se o funcionário deixou a empresa recentemente                      |\n",
    "| **Idade**                        | Idade do funcionário                                                          |\n",
    "| **Frequência de Viagens**        | Frequência de viagens a trabalho do funcionário                               |\n",
    "| **Distância_do_trabalho**        | Distância em Km até o trabalho                                                |\n",
    "| **Formação**                     | Nível de formação                                                             |\n",
    "| **E-Sat**                       | Satisfação com o clima organizacional                                         |\n",
    "| **Gênero**                      | Gênero do funcionário                                                         |\n",
    "| **Estado_Civil**                | Estado civil do funcionário                                                   |\n",
    "| **Salário**                     | Salário mensal                                                                |\n",
    "| **Quant. de Empresas Trabalhadas** | Quantidade de empresas que o funcionário já trabalhou                         |\n",
    "| **Faz_hora_extras**             | Se funcionário costuma fazer hora extra                                       |\n",
    "| **Equilibrio_de_Vida**          | Nota que o funcionário deu para seu equilíbrio entre vida pessoal e profissional|\n",
    "| **Tempo_de_empresa**            | Tempo em anos que o funcionário trabalha na empresa                           |"
   ]
  },
  {
   "cell_type": "markdown",
   "id": "cd0d9ef5",
   "metadata": {},
   "source": [
    "# 1) Importação dos dados e checagens iniciais \n",
    "(quantidade de linhas e colunas, quantidade de missings, proporção do target, medidas resumo, etc)"
   ]
  },
  {
   "cell_type": "code",
   "execution_count": 1,
   "id": "6a69259d",
   "metadata": {},
   "outputs": [],
   "source": [
    "# Visualização e tratamento dos dados\n",
    "import numpy as np\n",
    "import pandas as pd\n",
    "import matplotlib.pyplot as plt\n",
    "import seaborn as sns\n",
    "\n",
    "# Modelagem\n",
    "from sklearn.linear_model import LogisticRegression\n",
    "\n",
    "# Métricas\n",
    "from sklearn.metrics import confusion_matrix, ConfusionMatrixDisplay\n",
    "from sklearn.metrics import classification_report\n",
    "from sklearn.metrics import roc_curve\n",
    "from sklearn.metrics import roc_auc_score\n",
    "from scipy import stats"
   ]
  },
  {
   "cell_type": "code",
   "execution_count": 2,
   "id": "16ccb249",
   "metadata": {},
   "outputs": [
    {
     "data": {
      "text/html": [
       "<div>\n",
       "<style scoped>\n",
       "    .dataframe tbody tr th:only-of-type {\n",
       "        vertical-align: middle;\n",
       "    }\n",
       "\n",
       "    .dataframe tbody tr th {\n",
       "        vertical-align: top;\n",
       "    }\n",
       "\n",
       "    .dataframe thead th {\n",
       "        text-align: right;\n",
       "    }\n",
       "</style>\n",
       "<table border=\"1\" class=\"dataframe\">\n",
       "  <thead>\n",
       "    <tr style=\"text-align: right;\">\n",
       "      <th></th>\n",
       "      <th>ID</th>\n",
       "      <th>Funcionário_deixou_a_empresa</th>\n",
       "      <th>Idade</th>\n",
       "      <th>Frequência de Viagens</th>\n",
       "      <th>Distância_do_trabalho</th>\n",
       "      <th>Formação</th>\n",
       "      <th>E-Sat</th>\n",
       "      <th>Gênero</th>\n",
       "      <th>Estado_Civil</th>\n",
       "      <th>Salário</th>\n",
       "      <th>Qte_Empresas_Trabalhadas</th>\n",
       "      <th>Faz_hora_extras?</th>\n",
       "      <th>Equilibrio_de_Vida</th>\n",
       "      <th>Tempo_de_empresa</th>\n",
       "    </tr>\n",
       "  </thead>\n",
       "  <tbody>\n",
       "    <tr>\n",
       "      <th>0</th>\n",
       "      <td>1</td>\n",
       "      <td>Sim</td>\n",
       "      <td>41</td>\n",
       "      <td>Viaja raramente</td>\n",
       "      <td>1</td>\n",
       "      <td>Ensino Técnico</td>\n",
       "      <td>Médio</td>\n",
       "      <td>M</td>\n",
       "      <td>Solteiro</td>\n",
       "      <td>5993</td>\n",
       "      <td>8</td>\n",
       "      <td>Sim</td>\n",
       "      <td>Ruim</td>\n",
       "      <td>6</td>\n",
       "    </tr>\n",
       "    <tr>\n",
       "      <th>1</th>\n",
       "      <td>2</td>\n",
       "      <td>Não</td>\n",
       "      <td>49</td>\n",
       "      <td>Viaja frequentemente</td>\n",
       "      <td>8</td>\n",
       "      <td>Ensino Médio</td>\n",
       "      <td>Alto</td>\n",
       "      <td>H</td>\n",
       "      <td>Casado</td>\n",
       "      <td>5130</td>\n",
       "      <td>1</td>\n",
       "      <td>Não</td>\n",
       "      <td>Muito bom</td>\n",
       "      <td>10</td>\n",
       "    </tr>\n",
       "    <tr>\n",
       "      <th>2</th>\n",
       "      <td>3</td>\n",
       "      <td>Sim</td>\n",
       "      <td>37</td>\n",
       "      <td>Viaja raramente</td>\n",
       "      <td>2</td>\n",
       "      <td>Ensino Técnico</td>\n",
       "      <td>Muito Alto</td>\n",
       "      <td>H</td>\n",
       "      <td>Solteiro</td>\n",
       "      <td>2090</td>\n",
       "      <td>6</td>\n",
       "      <td>Sim</td>\n",
       "      <td>Muito bom</td>\n",
       "      <td>0</td>\n",
       "    </tr>\n",
       "    <tr>\n",
       "      <th>3</th>\n",
       "      <td>4</td>\n",
       "      <td>Não</td>\n",
       "      <td>33</td>\n",
       "      <td>Viaja frequentemente</td>\n",
       "      <td>3</td>\n",
       "      <td>Mestrado</td>\n",
       "      <td>Muito Alto</td>\n",
       "      <td>M</td>\n",
       "      <td>Casado</td>\n",
       "      <td>2909</td>\n",
       "      <td>1</td>\n",
       "      <td>Sim</td>\n",
       "      <td>Muito bom</td>\n",
       "      <td>8</td>\n",
       "    </tr>\n",
       "    <tr>\n",
       "      <th>4</th>\n",
       "      <td>5</td>\n",
       "      <td>Não</td>\n",
       "      <td>27</td>\n",
       "      <td>Viaja raramente</td>\n",
       "      <td>2</td>\n",
       "      <td>Ensino Médio</td>\n",
       "      <td>Baixo</td>\n",
       "      <td>H</td>\n",
       "      <td>Casado</td>\n",
       "      <td>3468</td>\n",
       "      <td>9</td>\n",
       "      <td>Não</td>\n",
       "      <td>Muito bom</td>\n",
       "      <td>2</td>\n",
       "    </tr>\n",
       "  </tbody>\n",
       "</table>\n",
       "</div>"
      ],
      "text/plain": [
       "   ID Funcionário_deixou_a_empresa  Idade Frequência de Viagens  \\\n",
       "0   1                          Sim     41       Viaja raramente   \n",
       "1   2                          Não     49  Viaja frequentemente   \n",
       "2   3                          Sim     37       Viaja raramente   \n",
       "3   4                          Não     33  Viaja frequentemente   \n",
       "4   5                          Não     27       Viaja raramente   \n",
       "\n",
       "   Distância_do_trabalho        Formação       E-Sat Gênero Estado_Civil  \\\n",
       "0                      1  Ensino Técnico       Médio      M     Solteiro   \n",
       "1                      8    Ensino Médio        Alto      H       Casado   \n",
       "2                      2  Ensino Técnico  Muito Alto      H     Solteiro   \n",
       "3                      3        Mestrado  Muito Alto      M       Casado   \n",
       "4                      2    Ensino Médio       Baixo      H       Casado   \n",
       "\n",
       "   Salário  Qte_Empresas_Trabalhadas Faz_hora_extras? Equilibrio_de_Vida  \\\n",
       "0     5993                         8              Sim               Ruim   \n",
       "1     5130                         1              Não          Muito bom   \n",
       "2     2090                         6              Sim          Muito bom   \n",
       "3     2909                         1              Sim          Muito bom   \n",
       "4     3468                         9              Não          Muito bom   \n",
       "\n",
       "   Tempo_de_empresa  \n",
       "0                 6  \n",
       "1                10  \n",
       "2                 0  \n",
       "3                 8  \n",
       "4                 2  "
      ]
     },
     "execution_count": 2,
     "metadata": {},
     "output_type": "execute_result"
    }
   ],
   "source": [
    "df = pd.read_excel('rh.xlsx')\n",
    "df.head()"
   ]
  },
  {
   "cell_type": "code",
   "execution_count": 3,
   "id": "5b05e523",
   "metadata": {},
   "outputs": [],
   "source": [
    "# Exclusão de colunas que não serão utilizadas no modelo\n",
    "df = df.drop(columns=['ID', 'Equilibrio_de_Vida', 'E-Sat', 'Estado_Civil', 'Frequência de Viagens'])"
   ]
  },
  {
   "cell_type": "code",
   "execution_count": 4,
   "id": "ba0167ff",
   "metadata": {},
   "outputs": [
    {
     "data": {
      "text/html": [
       "<div>\n",
       "<style scoped>\n",
       "    .dataframe tbody tr th:only-of-type {\n",
       "        vertical-align: middle;\n",
       "    }\n",
       "\n",
       "    .dataframe tbody tr th {\n",
       "        vertical-align: top;\n",
       "    }\n",
       "\n",
       "    .dataframe thead th {\n",
       "        text-align: right;\n",
       "    }\n",
       "</style>\n",
       "<table border=\"1\" class=\"dataframe\">\n",
       "  <thead>\n",
       "    <tr style=\"text-align: right;\">\n",
       "      <th></th>\n",
       "      <th>Funcionário_deixou_a_empresa</th>\n",
       "      <th>Idade</th>\n",
       "      <th>Distância_do_trabalho</th>\n",
       "      <th>Formação</th>\n",
       "      <th>Gênero</th>\n",
       "      <th>Salário</th>\n",
       "      <th>Qte_Empresas_Trabalhadas</th>\n",
       "      <th>Faz_hora_extras?</th>\n",
       "      <th>Tempo_de_empresa</th>\n",
       "    </tr>\n",
       "  </thead>\n",
       "  <tbody>\n",
       "    <tr>\n",
       "      <th>0</th>\n",
       "      <td>Sim</td>\n",
       "      <td>41</td>\n",
       "      <td>1</td>\n",
       "      <td>Ensino Técnico</td>\n",
       "      <td>M</td>\n",
       "      <td>5993</td>\n",
       "      <td>8</td>\n",
       "      <td>Sim</td>\n",
       "      <td>6</td>\n",
       "    </tr>\n",
       "    <tr>\n",
       "      <th>1</th>\n",
       "      <td>Não</td>\n",
       "      <td>49</td>\n",
       "      <td>8</td>\n",
       "      <td>Ensino Médio</td>\n",
       "      <td>H</td>\n",
       "      <td>5130</td>\n",
       "      <td>1</td>\n",
       "      <td>Não</td>\n",
       "      <td>10</td>\n",
       "    </tr>\n",
       "    <tr>\n",
       "      <th>2</th>\n",
       "      <td>Sim</td>\n",
       "      <td>37</td>\n",
       "      <td>2</td>\n",
       "      <td>Ensino Técnico</td>\n",
       "      <td>H</td>\n",
       "      <td>2090</td>\n",
       "      <td>6</td>\n",
       "      <td>Sim</td>\n",
       "      <td>0</td>\n",
       "    </tr>\n",
       "    <tr>\n",
       "      <th>3</th>\n",
       "      <td>Não</td>\n",
       "      <td>33</td>\n",
       "      <td>3</td>\n",
       "      <td>Mestrado</td>\n",
       "      <td>M</td>\n",
       "      <td>2909</td>\n",
       "      <td>1</td>\n",
       "      <td>Sim</td>\n",
       "      <td>8</td>\n",
       "    </tr>\n",
       "    <tr>\n",
       "      <th>4</th>\n",
       "      <td>Não</td>\n",
       "      <td>27</td>\n",
       "      <td>2</td>\n",
       "      <td>Ensino Médio</td>\n",
       "      <td>H</td>\n",
       "      <td>3468</td>\n",
       "      <td>9</td>\n",
       "      <td>Não</td>\n",
       "      <td>2</td>\n",
       "    </tr>\n",
       "  </tbody>\n",
       "</table>\n",
       "</div>"
      ],
      "text/plain": [
       "  Funcionário_deixou_a_empresa  Idade  Distância_do_trabalho        Formação  \\\n",
       "0                          Sim     41                      1  Ensino Técnico   \n",
       "1                          Não     49                      8    Ensino Médio   \n",
       "2                          Sim     37                      2  Ensino Técnico   \n",
       "3                          Não     33                      3        Mestrado   \n",
       "4                          Não     27                      2    Ensino Médio   \n",
       "\n",
       "  Gênero  Salário  Qte_Empresas_Trabalhadas Faz_hora_extras?  Tempo_de_empresa  \n",
       "0      M     5993                         8              Sim                 6  \n",
       "1      H     5130                         1              Não                10  \n",
       "2      H     2090                         6              Sim                 0  \n",
       "3      M     2909                         1              Sim                 8  \n",
       "4      H     3468                         9              Não                 2  "
      ]
     },
     "execution_count": 4,
     "metadata": {},
     "output_type": "execute_result"
    }
   ],
   "source": [
    "# Primeiras 5 linhas do DataFrame\n",
    "df.head()"
   ]
  },
  {
   "cell_type": "code",
   "execution_count": 5,
   "id": "265be575",
   "metadata": {},
   "outputs": [
    {
     "data": {
      "text/plain": [
       "Faz_hora_extras?                2\n",
       "Formação                        5\n",
       "Gênero                          2\n",
       "Funcionário_deixou_a_empresa    2\n",
       "dtype: int64"
      ]
     },
     "execution_count": 5,
     "metadata": {},
     "output_type": "execute_result"
    }
   ],
   "source": [
    "# Identificação das colunas categóricas\n",
    "colunas_categoricas = [\n",
    "    'Faz_hora_extras?',\n",
    "    'Formação',\n",
    "    'Gênero',\n",
    "    'Funcionário_deixou_a_empresa'  # variável resposta\n",
    "]\n",
    "\n",
    "# Visualização do número de opções de cada variável categórica\n",
    "df[colunas_categoricas].nunique()"
   ]
  },
  {
   "cell_type": "code",
   "execution_count": 6,
   "id": "cc6f83f5",
   "metadata": {},
   "outputs": [
    {
     "name": "stdout",
     "output_type": "stream",
     "text": [
      "Faz_hora_extras? -> ['Sim' 'Não']\n",
      "Formação -> ['Ensino Técnico' 'Ensino Médio' 'Mestrado' 'Ensino Superior' 'Doutorado']\n",
      "Gênero -> ['M' 'H']\n",
      "Funcionário_deixou_a_empresa -> ['Sim' 'Não']\n"
     ]
    }
   ],
   "source": [
    "# Lista de opções de cada variável categórica\n",
    "for coluna in colunas_categoricas:\n",
    "    categorias = df[coluna].unique()\n",
    "    print(f\"{coluna} -> {categorias}\")"
   ]
  },
  {
   "cell_type": "code",
   "execution_count": 7,
   "id": "d8218e3d",
   "metadata": {},
   "outputs": [],
   "source": [
    "# Definição dos valores de cada variável categórica ordinal\n",
    "formacao_ordinal = {\n",
    "    'Ensino Técnico': 1,\n",
    "    'Ensino Médio': 2,\n",
    "    'Mestrado': 3,\n",
    "    'Ensino Superior': 4,\n",
    "    'Doutorado': 5\n",
    "}\n",
    "\n",
    "# Codificação ordinal\n",
    "df['Formação'] = df['Formação'].map(formacao_ordinal)\n",
    "\n",
    "# Definição dos valores das variáveis binárias\n",
    "df['Funcionário_deixou_a_empresa'] = df['Funcionário_deixou_a_empresa'].map({'Sim': 1, 'Não': 0})\n",
    "df['Faz_hora_extras?'] = df['Faz_hora_extras?'].map({'Sim': 1, 'Não': 0})\n",
    "df['Gênero'] = df['Gênero'].map({'H': 1, 'M': 0})"
   ]
  },
  {
   "cell_type": "code",
   "execution_count": 8,
   "id": "0d054fea",
   "metadata": {},
   "outputs": [
    {
     "data": {
      "text/html": [
       "<div>\n",
       "<style scoped>\n",
       "    .dataframe tbody tr th:only-of-type {\n",
       "        vertical-align: middle;\n",
       "    }\n",
       "\n",
       "    .dataframe tbody tr th {\n",
       "        vertical-align: top;\n",
       "    }\n",
       "\n",
       "    .dataframe thead th {\n",
       "        text-align: right;\n",
       "    }\n",
       "</style>\n",
       "<table border=\"1\" class=\"dataframe\">\n",
       "  <thead>\n",
       "    <tr style=\"text-align: right;\">\n",
       "      <th></th>\n",
       "      <th>Funcionário_deixou_a_empresa</th>\n",
       "      <th>Idade</th>\n",
       "      <th>Distância_do_trabalho</th>\n",
       "      <th>Formação</th>\n",
       "      <th>Gênero</th>\n",
       "      <th>Salário</th>\n",
       "      <th>Qte_Empresas_Trabalhadas</th>\n",
       "      <th>Faz_hora_extras?</th>\n",
       "      <th>Tempo_de_empresa</th>\n",
       "    </tr>\n",
       "  </thead>\n",
       "  <tbody>\n",
       "    <tr>\n",
       "      <th>0</th>\n",
       "      <td>1</td>\n",
       "      <td>41</td>\n",
       "      <td>1</td>\n",
       "      <td>1</td>\n",
       "      <td>0</td>\n",
       "      <td>5993</td>\n",
       "      <td>8</td>\n",
       "      <td>1</td>\n",
       "      <td>6</td>\n",
       "    </tr>\n",
       "    <tr>\n",
       "      <th>1</th>\n",
       "      <td>0</td>\n",
       "      <td>49</td>\n",
       "      <td>8</td>\n",
       "      <td>2</td>\n",
       "      <td>1</td>\n",
       "      <td>5130</td>\n",
       "      <td>1</td>\n",
       "      <td>0</td>\n",
       "      <td>10</td>\n",
       "    </tr>\n",
       "    <tr>\n",
       "      <th>2</th>\n",
       "      <td>1</td>\n",
       "      <td>37</td>\n",
       "      <td>2</td>\n",
       "      <td>1</td>\n",
       "      <td>1</td>\n",
       "      <td>2090</td>\n",
       "      <td>6</td>\n",
       "      <td>1</td>\n",
       "      <td>0</td>\n",
       "    </tr>\n",
       "    <tr>\n",
       "      <th>3</th>\n",
       "      <td>0</td>\n",
       "      <td>33</td>\n",
       "      <td>3</td>\n",
       "      <td>3</td>\n",
       "      <td>0</td>\n",
       "      <td>2909</td>\n",
       "      <td>1</td>\n",
       "      <td>1</td>\n",
       "      <td>8</td>\n",
       "    </tr>\n",
       "    <tr>\n",
       "      <th>4</th>\n",
       "      <td>0</td>\n",
       "      <td>27</td>\n",
       "      <td>2</td>\n",
       "      <td>2</td>\n",
       "      <td>1</td>\n",
       "      <td>3468</td>\n",
       "      <td>9</td>\n",
       "      <td>0</td>\n",
       "      <td>2</td>\n",
       "    </tr>\n",
       "  </tbody>\n",
       "</table>\n",
       "</div>"
      ],
      "text/plain": [
       "   Funcionário_deixou_a_empresa  Idade  Distância_do_trabalho  Formação  \\\n",
       "0                             1     41                      1         1   \n",
       "1                             0     49                      8         2   \n",
       "2                             1     37                      2         1   \n",
       "3                             0     33                      3         3   \n",
       "4                             0     27                      2         2   \n",
       "\n",
       "   Gênero  Salário  Qte_Empresas_Trabalhadas  Faz_hora_extras?  \\\n",
       "0       0     5993                         8                 1   \n",
       "1       1     5130                         1                 0   \n",
       "2       1     2090                         6                 1   \n",
       "3       0     2909                         1                 1   \n",
       "4       1     3468                         9                 0   \n",
       "\n",
       "   Tempo_de_empresa  \n",
       "0                 6  \n",
       "1                10  \n",
       "2                 0  \n",
       "3                 8  \n",
       "4                 2  "
      ]
     },
     "execution_count": 8,
     "metadata": {},
     "output_type": "execute_result"
    }
   ],
   "source": [
    "# Visualização das 5 primeiras linhas do DataFrame\n",
    "df.head()"
   ]
  },
  {
   "cell_type": "code",
   "execution_count": 9,
   "id": "f129a7a5",
   "metadata": {},
   "outputs": [
    {
     "data": {
      "text/plain": [
       "0.16122448979591836"
      ]
     },
     "execution_count": 9,
     "metadata": {},
     "output_type": "execute_result"
    }
   ],
   "source": [
    "# Percentual dos funcionários que deixaram a empresa\n",
    "df.Funcionário_deixou_a_empresa.mean() # 16% dos funcionários da base deixaram a empresa"
   ]
  },
  {
   "cell_type": "code",
   "execution_count": 10,
   "id": "af46e709",
   "metadata": {},
   "outputs": [
    {
     "data": {
      "text/plain": [
       "(1470, 9)"
      ]
     },
     "execution_count": 10,
     "metadata": {},
     "output_type": "execute_result"
    }
   ],
   "source": [
    "# Visualização do número de linhas (1470) e colunas (9)\n",
    "df.shape"
   ]
  },
  {
   "cell_type": "code",
   "execution_count": 11,
   "id": "138949a1",
   "metadata": {},
   "outputs": [
    {
     "name": "stdout",
     "output_type": "stream",
     "text": [
      "<class 'pandas.core.frame.DataFrame'>\n",
      "RangeIndex: 1470 entries, 0 to 1469\n",
      "Data columns (total 9 columns):\n",
      " #   Column                        Non-Null Count  Dtype\n",
      "---  ------                        --------------  -----\n",
      " 0   Funcionário_deixou_a_empresa  1470 non-null   int64\n",
      " 1   Idade                         1470 non-null   int64\n",
      " 2   Distância_do_trabalho         1470 non-null   int64\n",
      " 3   Formação                      1470 non-null   int64\n",
      " 4   Gênero                        1470 non-null   int64\n",
      " 5   Salário                       1470 non-null   int64\n",
      " 6   Qte_Empresas_Trabalhadas      1470 non-null   int64\n",
      " 7   Faz_hora_extras?              1470 non-null   int64\n",
      " 8   Tempo_de_empresa              1470 non-null   int64\n",
      "dtypes: int64(9)\n",
      "memory usage: 103.5 KB\n"
     ]
    }
   ],
   "source": [
    "# Visualização das informações de cada variável\n",
    "df.info() # Aparentemente, nenhum valor missing na base"
   ]
  },
  {
   "cell_type": "code",
   "execution_count": 12,
   "id": "815ee3a7",
   "metadata": {},
   "outputs": [
    {
     "data": {
      "text/html": [
       "<div>\n",
       "<style scoped>\n",
       "    .dataframe tbody tr th:only-of-type {\n",
       "        vertical-align: middle;\n",
       "    }\n",
       "\n",
       "    .dataframe tbody tr th {\n",
       "        vertical-align: top;\n",
       "    }\n",
       "\n",
       "    .dataframe thead th {\n",
       "        text-align: right;\n",
       "    }\n",
       "</style>\n",
       "<table border=\"1\" class=\"dataframe\">\n",
       "  <thead>\n",
       "    <tr style=\"text-align: right;\">\n",
       "      <th></th>\n",
       "      <th>Funcionário_deixou_a_empresa</th>\n",
       "      <th>Idade</th>\n",
       "      <th>Distância_do_trabalho</th>\n",
       "      <th>Formação</th>\n",
       "      <th>Gênero</th>\n",
       "      <th>Salário</th>\n",
       "      <th>Qte_Empresas_Trabalhadas</th>\n",
       "      <th>Faz_hora_extras?</th>\n",
       "      <th>Tempo_de_empresa</th>\n",
       "    </tr>\n",
       "  </thead>\n",
       "  <tbody>\n",
       "    <tr>\n",
       "      <th>count</th>\n",
       "      <td>1470.000000</td>\n",
       "      <td>1470.000000</td>\n",
       "      <td>1470.000000</td>\n",
       "      <td>1470.000000</td>\n",
       "      <td>1470.000000</td>\n",
       "      <td>1470.000000</td>\n",
       "      <td>1470.000000</td>\n",
       "      <td>1470.000000</td>\n",
       "      <td>1470.000000</td>\n",
       "    </tr>\n",
       "    <tr>\n",
       "      <th>mean</th>\n",
       "      <td>0.161224</td>\n",
       "      <td>36.923810</td>\n",
       "      <td>9.192517</td>\n",
       "      <td>2.955102</td>\n",
       "      <td>0.600000</td>\n",
       "      <td>6502.931293</td>\n",
       "      <td>2.693197</td>\n",
       "      <td>0.282993</td>\n",
       "      <td>7.008163</td>\n",
       "    </tr>\n",
       "    <tr>\n",
       "      <th>std</th>\n",
       "      <td>0.367863</td>\n",
       "      <td>9.135373</td>\n",
       "      <td>8.106864</td>\n",
       "      <td>1.183917</td>\n",
       "      <td>0.490065</td>\n",
       "      <td>4707.956783</td>\n",
       "      <td>2.498009</td>\n",
       "      <td>0.450606</td>\n",
       "      <td>6.126525</td>\n",
       "    </tr>\n",
       "    <tr>\n",
       "      <th>min</th>\n",
       "      <td>0.000000</td>\n",
       "      <td>18.000000</td>\n",
       "      <td>1.000000</td>\n",
       "      <td>1.000000</td>\n",
       "      <td>0.000000</td>\n",
       "      <td>1009.000000</td>\n",
       "      <td>0.000000</td>\n",
       "      <td>0.000000</td>\n",
       "      <td>0.000000</td>\n",
       "    </tr>\n",
       "    <tr>\n",
       "      <th>25%</th>\n",
       "      <td>0.000000</td>\n",
       "      <td>30.000000</td>\n",
       "      <td>2.000000</td>\n",
       "      <td>2.000000</td>\n",
       "      <td>0.000000</td>\n",
       "      <td>2911.000000</td>\n",
       "      <td>1.000000</td>\n",
       "      <td>0.000000</td>\n",
       "      <td>3.000000</td>\n",
       "    </tr>\n",
       "    <tr>\n",
       "      <th>50%</th>\n",
       "      <td>0.000000</td>\n",
       "      <td>36.000000</td>\n",
       "      <td>7.000000</td>\n",
       "      <td>3.000000</td>\n",
       "      <td>1.000000</td>\n",
       "      <td>4919.000000</td>\n",
       "      <td>2.000000</td>\n",
       "      <td>0.000000</td>\n",
       "      <td>5.000000</td>\n",
       "    </tr>\n",
       "    <tr>\n",
       "      <th>75%</th>\n",
       "      <td>0.000000</td>\n",
       "      <td>43.000000</td>\n",
       "      <td>14.000000</td>\n",
       "      <td>4.000000</td>\n",
       "      <td>1.000000</td>\n",
       "      <td>8379.000000</td>\n",
       "      <td>4.000000</td>\n",
       "      <td>1.000000</td>\n",
       "      <td>9.000000</td>\n",
       "    </tr>\n",
       "    <tr>\n",
       "      <th>max</th>\n",
       "      <td>1.000000</td>\n",
       "      <td>60.000000</td>\n",
       "      <td>29.000000</td>\n",
       "      <td>5.000000</td>\n",
       "      <td>1.000000</td>\n",
       "      <td>19999.000000</td>\n",
       "      <td>9.000000</td>\n",
       "      <td>1.000000</td>\n",
       "      <td>40.000000</td>\n",
       "    </tr>\n",
       "  </tbody>\n",
       "</table>\n",
       "</div>"
      ],
      "text/plain": [
       "       Funcionário_deixou_a_empresa        Idade  Distância_do_trabalho  \\\n",
       "count                   1470.000000  1470.000000            1470.000000   \n",
       "mean                       0.161224    36.923810               9.192517   \n",
       "std                        0.367863     9.135373               8.106864   \n",
       "min                        0.000000    18.000000               1.000000   \n",
       "25%                        0.000000    30.000000               2.000000   \n",
       "50%                        0.000000    36.000000               7.000000   \n",
       "75%                        0.000000    43.000000              14.000000   \n",
       "max                        1.000000    60.000000              29.000000   \n",
       "\n",
       "          Formação       Gênero       Salário  Qte_Empresas_Trabalhadas  \\\n",
       "count  1470.000000  1470.000000   1470.000000               1470.000000   \n",
       "mean      2.955102     0.600000   6502.931293                  2.693197   \n",
       "std       1.183917     0.490065   4707.956783                  2.498009   \n",
       "min       1.000000     0.000000   1009.000000                  0.000000   \n",
       "25%       2.000000     0.000000   2911.000000                  1.000000   \n",
       "50%       3.000000     1.000000   4919.000000                  2.000000   \n",
       "75%       4.000000     1.000000   8379.000000                  4.000000   \n",
       "max       5.000000     1.000000  19999.000000                  9.000000   \n",
       "\n",
       "       Faz_hora_extras?  Tempo_de_empresa  \n",
       "count       1470.000000       1470.000000  \n",
       "mean           0.282993          7.008163  \n",
       "std            0.450606          6.126525  \n",
       "min            0.000000          0.000000  \n",
       "25%            0.000000          3.000000  \n",
       "50%            0.000000          5.000000  \n",
       "75%            1.000000          9.000000  \n",
       "max            1.000000         40.000000  "
      ]
     },
     "execution_count": 12,
     "metadata": {},
     "output_type": "execute_result"
    }
   ],
   "source": [
    "# Valores estatísticos\n",
    "df.describe()"
   ]
  },
  {
   "cell_type": "code",
   "execution_count": 13,
   "id": "14c4b7ab",
   "metadata": {},
   "outputs": [
    {
     "data": {
      "image/png": "[encoded data removed]",
      "text/plain": [
       "<Figure size 800x600 with 2 Axes>"
      ]
     },
     "metadata": {},
     "output_type": "display_data"
    }
   ],
   "source": [
    "# Plotagem do gráfico de correlação\n",
    "plt.figure(figsize=(8,6)) # Ajusta o tamanho da figura\n",
    "sns.heatmap(df.corr(), cmap='RdBu', annot=True); # Troca a cor e coloca o valor da correlação dentro da matriz"
   ]
  },
  {
   "cell_type": "markdown",
   "id": "97fd7d6d",
   "metadata": {},
   "source": [
    "#### Pouca correlação entre as variáveis. É provável que o modelo não sofra com problemas de multicolinearidade."
   ]
  },
  {
   "cell_type": "markdown",
   "id": "46482303",
   "metadata": {},
   "source": [
    "# 2) Ajuste do modelo de Regressão Logística"
   ]
  },
  {
   "cell_type": "code",
   "execution_count": 14,
   "id": "567e4573",
   "metadata": {},
   "outputs": [],
   "source": [
    "x = df.drop(['Funcionário_deixou_a_empresa'],axis = 1)\n",
    "y = df['Funcionário_deixou_a_empresa']"
   ]
  },
  {
   "cell_type": "code",
   "execution_count": 15,
   "id": "8ca9136e",
   "metadata": {},
   "outputs": [
    {
     "data": {
      "text/plain": [
       "LogisticRegression(max_iter=500, random_state=42)"
      ]
     },
     "execution_count": 15,
     "metadata": {},
     "output_type": "execute_result"
    }
   ],
   "source": [
    "modelo = LogisticRegression(fit_intercept=True,random_state=42,max_iter=500)\n",
    "modelo.fit(x,y)"
   ]
  },
  {
   "cell_type": "code",
   "execution_count": 16,
   "id": "2d349777",
   "metadata": {},
   "outputs": [],
   "source": [
    "df_2 = df.copy()\n",
    "df_2['Prob'] = modelo.predict_proba(x)[:,1]\n",
    "df_2['Deixou_Empresa_Predito'] = modelo.predict(x) # Y_Predito"
   ]
  },
  {
   "cell_type": "code",
   "execution_count": 17,
   "id": "6cfa51af",
   "metadata": {},
   "outputs": [
    {
     "data": {
      "text/html": [
       "<div>\n",
       "<style scoped>\n",
       "    .dataframe tbody tr th:only-of-type {\n",
       "        vertical-align: middle;\n",
       "    }\n",
       "\n",
       "    .dataframe tbody tr th {\n",
       "        vertical-align: top;\n",
       "    }\n",
       "\n",
       "    .dataframe thead th {\n",
       "        text-align: right;\n",
       "    }\n",
       "</style>\n",
       "<table border=\"1\" class=\"dataframe\">\n",
       "  <thead>\n",
       "    <tr style=\"text-align: right;\">\n",
       "      <th></th>\n",
       "      <th>Funcionário_deixou_a_empresa</th>\n",
       "      <th>Idade</th>\n",
       "      <th>Distância_do_trabalho</th>\n",
       "      <th>Formação</th>\n",
       "      <th>Gênero</th>\n",
       "      <th>Salário</th>\n",
       "      <th>Qte_Empresas_Trabalhadas</th>\n",
       "      <th>Faz_hora_extras?</th>\n",
       "      <th>Tempo_de_empresa</th>\n",
       "      <th>Prob</th>\n",
       "      <th>Deixou_Empresa_Predito</th>\n",
       "    </tr>\n",
       "  </thead>\n",
       "  <tbody>\n",
       "    <tr>\n",
       "      <th>0</th>\n",
       "      <td>1</td>\n",
       "      <td>41</td>\n",
       "      <td>1</td>\n",
       "      <td>1</td>\n",
       "      <td>0</td>\n",
       "      <td>5993</td>\n",
       "      <td>8</td>\n",
       "      <td>1</td>\n",
       "      <td>6</td>\n",
       "      <td>0.319518</td>\n",
       "      <td>0</td>\n",
       "    </tr>\n",
       "    <tr>\n",
       "      <th>1</th>\n",
       "      <td>0</td>\n",
       "      <td>49</td>\n",
       "      <td>8</td>\n",
       "      <td>2</td>\n",
       "      <td>1</td>\n",
       "      <td>5130</td>\n",
       "      <td>1</td>\n",
       "      <td>0</td>\n",
       "      <td>10</td>\n",
       "      <td>0.037371</td>\n",
       "      <td>0</td>\n",
       "    </tr>\n",
       "    <tr>\n",
       "      <th>2</th>\n",
       "      <td>1</td>\n",
       "      <td>37</td>\n",
       "      <td>2</td>\n",
       "      <td>1</td>\n",
       "      <td>1</td>\n",
       "      <td>2090</td>\n",
       "      <td>6</td>\n",
       "      <td>1</td>\n",
       "      <td>0</td>\n",
       "      <td>0.465581</td>\n",
       "      <td>0</td>\n",
       "    </tr>\n",
       "    <tr>\n",
       "      <th>3</th>\n",
       "      <td>0</td>\n",
       "      <td>33</td>\n",
       "      <td>3</td>\n",
       "      <td>3</td>\n",
       "      <td>0</td>\n",
       "      <td>2909</td>\n",
       "      <td>1</td>\n",
       "      <td>1</td>\n",
       "      <td>8</td>\n",
       "      <td>0.290661</td>\n",
       "      <td>0</td>\n",
       "    </tr>\n",
       "    <tr>\n",
       "      <th>4</th>\n",
       "      <td>0</td>\n",
       "      <td>27</td>\n",
       "      <td>2</td>\n",
       "      <td>2</td>\n",
       "      <td>1</td>\n",
       "      <td>3468</td>\n",
       "      <td>9</td>\n",
       "      <td>0</td>\n",
       "      <td>2</td>\n",
       "      <td>0.320878</td>\n",
       "      <td>0</td>\n",
       "    </tr>\n",
       "  </tbody>\n",
       "</table>\n",
       "</div>"
      ],
      "text/plain": [
       "   Funcionário_deixou_a_empresa  Idade  Distância_do_trabalho  Formação  \\\n",
       "0                             1     41                      1         1   \n",
       "1                             0     49                      8         2   \n",
       "2                             1     37                      2         1   \n",
       "3                             0     33                      3         3   \n",
       "4                             0     27                      2         2   \n",
       "\n",
       "   Gênero  Salário  Qte_Empresas_Trabalhadas  Faz_hora_extras?  \\\n",
       "0       0     5993                         8                 1   \n",
       "1       1     5130                         1                 0   \n",
       "2       1     2090                         6                 1   \n",
       "3       0     2909                         1                 1   \n",
       "4       1     3468                         9                 0   \n",
       "\n",
       "   Tempo_de_empresa      Prob  Deixou_Empresa_Predito  \n",
       "0                 6  0.319518                       0  \n",
       "1                10  0.037371                       0  \n",
       "2                 0  0.465581                       0  \n",
       "3                 8  0.290661                       0  \n",
       "4                 2  0.320878                       0  "
      ]
     },
     "execution_count": 17,
     "metadata": {},
     "output_type": "execute_result"
    }
   ],
   "source": [
    "df_2.head()"
   ]
  },
  {
   "cell_type": "markdown",
   "id": "7ce23667",
   "metadata": {},
   "source": [
    "# 3) Cálculo as métricas de performance"
   ]
  },
  {
   "cell_type": "markdown",
   "id": "b0a3bbc4",
   "metadata": {},
   "source": [
    "## 3.1) Matriz de Confusão"
   ]
  },
  {
   "cell_type": "code",
   "execution_count": 18,
   "id": "81f84ded",
   "metadata": {},
   "outputs": [],
   "source": [
    "# Pacote que cria a matriz de confusão\n",
    "from sklearn.metrics import confusion_matrix, ConfusionMatrixDisplay"
   ]
  },
  {
   "cell_type": "code",
   "execution_count": 19,
   "id": "58ec6b24",
   "metadata": {},
   "outputs": [],
   "source": [
    "cm = confusion_matrix(df_2['Funcionário_deixou_a_empresa'], df_2['Deixou_Empresa_Predito'])"
   ]
  },
  {
   "cell_type": "code",
   "execution_count": 20,
   "id": "d095bf3b",
   "metadata": {},
   "outputs": [
    {
     "data": {
      "image/png": "[encoded data removed]",
      "text/plain": [
       "<Figure size 640x480 with 2 Axes>"
      ]
     },
     "metadata": {},
     "output_type": "display_data"
    }
   ],
   "source": [
    "ConfusionMatrixDisplay(confusion_matrix=cm,).plot();"
   ]
  },
  {
   "cell_type": "markdown",
   "id": "40ff392e",
   "metadata": {},
   "source": [
    "## 3.2) Plotagem da Curva ROC do modelo"
   ]
  },
  {
   "cell_type": "code",
   "execution_count": 21,
   "id": "1f725683",
   "metadata": {},
   "outputs": [],
   "source": [
    "fpr, tpr, thresholds = roc_curve(df_2['Funcionário_deixou_a_empresa'], df_2['Prob'])"
   ]
  },
  {
   "cell_type": "code",
   "execution_count": 22,
   "id": "d38363b3",
   "metadata": {},
   "outputs": [
    {
     "data": {
      "image/png": "[encoded data removed]",
      "text/plain": [
       "<Figure size 800x600 with 1 Axes>"
      ]
     },
     "metadata": {},
     "output_type": "display_data"
    }
   ],
   "source": [
    "plt.figure(figsize=(8,6))\n",
    "\n",
    "plt.plot(fpr,tpr, label='Curva ROC')\n",
    "plt.fill_between(fpr,tpr,color='blue',alpha= 0.1,label = 'AUC = Área Abaixo da Curva ROC')\n",
    "plt.plot(np.linspace(0,1,100),np.linspace(0,1,100),color='black',label='Linha se modelo aleatório')\n",
    "\n",
    "plt.title(\"Curva ROC do modelo\")\n",
    "plt.ylabel('True Positive Rate / Sensibilidade')\n",
    "plt.xlabel('False Positive Rate / 1 - Especificidade')\n",
    "plt.legend();"
   ]
  },
  {
   "cell_type": "markdown",
   "id": "ab118645",
   "metadata": {},
   "source": [
    "## 3.3) Cálculo o AUC e o KS do modelo"
   ]
  },
  {
   "cell_type": "code",
   "execution_count": 23,
   "id": "9fd32235",
   "metadata": {},
   "outputs": [
    {
     "name": "stdout",
     "output_type": "stream",
     "text": [
      "O AUC é:  0.752050673976203\n"
     ]
    }
   ],
   "source": [
    "# Calcula a área abaixo da curva ROC\n",
    "print(\"O AUC é: \",roc_auc_score(df_2['Funcionário_deixou_a_empresa'], df_2['Prob']))"
   ]
  },
  {
   "cell_type": "markdown",
   "id": "a766fdaf",
   "metadata": {},
   "source": [
    "Benchmark: Quanto mais próximo de 100% a AUC for,\n",
    "melhor é o modelo. Modelos entre 50% e 60% são\n",
    "considerados ruins (baixa discriminação)."
   ]
  },
  {
   "cell_type": "code",
   "execution_count": 24,
   "id": "ad8fd73f",
   "metadata": {},
   "outputs": [],
   "source": [
    "# Prob (Y = 1) quando o Y Real for igual a 0\n",
    "prob_y_real_0 = df_2.loc[df_2.Funcionário_deixou_a_empresa==0,\"Prob\"]\n",
    "\n",
    "# Prob (Y = 1) quando o Y Real for igual a 1\n",
    "prob_y_real_1 = df_2.loc[df_2.Funcionário_deixou_a_empresa==1,\"Prob\"]"
   ]
  },
  {
   "cell_type": "code",
   "execution_count": 25,
   "id": "86dbc2a3",
   "metadata": {},
   "outputs": [
    {
     "name": "stdout",
     "output_type": "stream",
     "text": [
      "O KS é:  0.41444660034699765\n"
     ]
    }
   ],
   "source": [
    "print(\"O KS é: \",stats.ks_2samp(prob_y_real_0, prob_y_real_1).statistic)"
   ]
  },
  {
   "cell_type": "markdown",
   "id": "d331a27b",
   "metadata": {},
   "source": [
    "## 3.4) Precision, Sensibilidade/Recall, Especificidade e F1 Score: Interpretação os Resultados!"
   ]
  },
  {
   "cell_type": "code",
   "execution_count": 26,
   "id": "26c7749e",
   "metadata": {},
   "outputs": [
    {
     "name": "stdout",
     "output_type": "stream",
     "text": [
      "              precision    recall  f1-score   support\n",
      "\n",
      "           0       0.86      0.99      0.92      1233\n",
      "           1       0.68      0.16      0.27       237\n",
      "\n",
      "    accuracy                           0.85      1470\n",
      "   macro avg       0.77      0.57      0.59      1470\n",
      "weighted avg       0.83      0.85      0.81      1470\n",
      "\n"
     ]
    }
   ],
   "source": [
    "print(classification_report(df_2['Funcionário_deixou_a_empresa'], df_2['Deixou_Empresa_Predito']))"
   ]
  },
  {
   "cell_type": "code",
   "execution_count": 27,
   "id": "b57656cf",
   "metadata": {},
   "outputs": [
    {
     "name": "stdout",
     "output_type": "stream",
     "text": [
      "A especificidade é:  0.9854014598540146\n"
     ]
    }
   ],
   "source": [
    "especificidade = cm[0,0]/(cm[0,0]+cm[0,1])\n",
    "print('A especificidade é: ',especificidade)"
   ]
  },
  {
   "cell_type": "markdown",
   "id": "46cdb7fb",
   "metadata": {},
   "source": [
    "Para o corte padrão de probabilidade 0,5, interpretamos:\n",
    "\n",
    "- **Precision:** 0,68 >> De todos os funcionários que o modelo previu como tendo saído, 68% realmente saíram da empresa.\n",
    "    - Ou seja, quando o modelo diz que alguém vai sair, ele está certo em 68% dos casos.\n",
    "- **Sensibilidade/Recall:** 0,16 >> De todos os funcionários que realmente saíram, o modelo só conseguiu identificar 16% deles.\n",
    "    - Ou seja, o modelo está \"deixando passar\" a maior parte dos funcionários que de fato saíram — só pega 1 em cada 6.\n",
    "- **Especificidade:** 0.99 >> De todos os colaboradores que **não** deixaram a empresa, o modelo classificou como não deixaram a empresa 99%."
   ]
  },
  {
   "cell_type": "markdown",
   "id": "34d0f007",
   "metadata": {},
   "source": [
    "### Qual a métrica prioritária para o problema? Ou seja, queremos diminuir falsos positivos ou falsos negativos? Além disso, qual o corte de probabilidade que minimiza esse erro?\n",
    "\n",
    "O threshold padrão (0.5) está muito alto para o seu caso. Como o modelo apresenta uma boa performance (AUC = 0.75), reduzir o corte pode aumentar o recall e capturar mais funcionários com risco real de saída.\n",
    "\n",
    "Ao aplicar esse modelo para prever se um funcionário sairá da empresa, precisamos refletir sobre o tipo de erro mais crítico:\n",
    "\n",
    "- Se quisermos **evitar perder funcionários que realmente sairão**, o foco deve ser em **reduzir os falsos negativos** (classificar como “vai ficar” quem na verdade vai sair) \n",
    "Nesse caso, a **métrica prioritária é o recall**\n",
    "\n",
    "- Por outro lado, se for mais grave **acionar ações para quem não sairia** (falsos positivos), deveríamos focar em aumentar a **precisão (precision)**\n",
    "\n",
    "Neste cenário, como o objetivo é **antecipar a saída dos funcionários para reter talentos**, geralmente priorizamos **diminuir falsos negativos**, ou seja, **aumentar o recall**."
   ]
  },
  {
   "cell_type": "markdown",
   "id": "eb5e56f0",
   "metadata": {},
   "source": [
    "### Cálculo com o Threshold 0.25"
   ]
  },
  {
   "cell_type": "code",
   "execution_count": 28,
   "id": "f405c773",
   "metadata": {},
   "outputs": [],
   "source": [
    "df_2['Deixou_Empresa_Predito'] = np.where(df_2['Prob']>0.25,1,0)"
   ]
  },
  {
   "cell_type": "code",
   "execution_count": 29,
   "id": "900c0fc4",
   "metadata": {},
   "outputs": [],
   "source": [
    "cm2 = confusion_matrix(df_2['Funcionário_deixou_a_empresa'], df_2['Deixou_Empresa_Predito'])"
   ]
  },
  {
   "cell_type": "code",
   "execution_count": 30,
   "id": "da2c19da",
   "metadata": {},
   "outputs": [
    {
     "data": {
      "image/png": "[encoded data removed]",
      "text/plain": [
       "<Figure size 640x480 with 2 Axes>"
      ]
     },
     "metadata": {},
     "output_type": "display_data"
    }
   ],
   "source": [
    "# Matriz Com Corte > 0.25 (Após a mudança para melhorar a sensibilidade)\n",
    "ConfusionMatrixDisplay(confusion_matrix=cm2,).plot();"
   ]
  },
  {
   "cell_type": "markdown",
   "id": "8a564bae",
   "metadata": {},
   "source": [
    "#### A quantidade de falsos negativos diminuiu"
   ]
  },
  {
   "cell_type": "code",
   "execution_count": 31,
   "id": "476a0d61",
   "metadata": {},
   "outputs": [
    {
     "name": "stdout",
     "output_type": "stream",
     "text": [
      "              precision    recall  f1-score   support\n",
      "\n",
      "           0       0.90      0.85      0.87      1233\n",
      "           1       0.40      0.52      0.45       237\n",
      "\n",
      "    accuracy                           0.80      1470\n",
      "   macro avg       0.65      0.68      0.66      1470\n",
      "weighted avg       0.82      0.80      0.81      1470\n",
      "\n"
     ]
    }
   ],
   "source": [
    "print(classification_report(df_2['Funcionário_deixou_a_empresa'], df_2['Deixou_Empresa_Predito']))"
   ]
  },
  {
   "cell_type": "markdown",
   "id": "f95ea351",
   "metadata": {},
   "source": [
    "### O que mudou em relação ao corte padrão (0.5)\n",
    "\n",
    "| Métrica              | Threshold = 0.5 | Threshold = 0.25 | Interpretação                                                |\n",
    "|----------------------|----------------|------------------|---------------------------------------------------------------|\n",
    "| **Recall (classe 1)**    | 0.16           | 0.52             | Captura muito mais quem realmente vai sair                 |\n",
    "| **Precision (classe 1)** | 0.68           | 0.40             | Mais falsos positivos, mas ainda aceitável                 |\n",
    "| **Acurácia**             | 0.85           | 0.80             | Caiu um pouco, mas esperado e aceitável                    |\n",
    "| **F1-Score (classe 1)**  | 0.27           | 0.45             | Melhor equilíbrio entre precisão e sensibilidade (recall)  |\n",
    "\n",
    "- Com threshold = 0.25, o modelo está mais sensível — ele identifica mais pessoas que sairão, mesmo que com mais falsos positivos\n",
    "\n",
    "- Isso é bom se o objetivo da empresa é não deixar ninguém ir embora sem tentar reter antes\n",
    "\n",
    "- Ou seja, melhor pecar por excesso (falsos positivos) do que deixar passar quem realmente vai sair (falsos negativos)\n"
   ]
  },
  {
   "cell_type": "code",
   "execution_count": 32,
   "id": "83c7766e",
   "metadata": {},
   "outputs": [
    {
     "data": {
      "text/html": [
       "<div>\n",
       "<style scoped>\n",
       "    .dataframe tbody tr th:only-of-type {\n",
       "        vertical-align: middle;\n",
       "    }\n",
       "\n",
       "    .dataframe tbody tr th {\n",
       "        vertical-align: top;\n",
       "    }\n",
       "\n",
       "    .dataframe thead th {\n",
       "        text-align: right;\n",
       "    }\n",
       "</style>\n",
       "<table border=\"1\" class=\"dataframe\">\n",
       "  <thead>\n",
       "    <tr style=\"text-align: right;\">\n",
       "      <th></th>\n",
       "      <th>Funcionário_deixou_a_empresa</th>\n",
       "      <th>Idade</th>\n",
       "      <th>Distância_do_trabalho</th>\n",
       "      <th>Formação</th>\n",
       "      <th>Gênero</th>\n",
       "      <th>Salário</th>\n",
       "      <th>Qte_Empresas_Trabalhadas</th>\n",
       "      <th>Faz_hora_extras?</th>\n",
       "      <th>Tempo_de_empresa</th>\n",
       "      <th>Prob</th>\n",
       "      <th>Deixou_Empresa_Predito</th>\n",
       "      <th>ID</th>\n",
       "    </tr>\n",
       "  </thead>\n",
       "  <tbody>\n",
       "    <tr>\n",
       "      <th>54</th>\n",
       "      <td>0</td>\n",
       "      <td>26</td>\n",
       "      <td>23</td>\n",
       "      <td>4</td>\n",
       "      <td>0</td>\n",
       "      <td>4157</td>\n",
       "      <td>7</td>\n",
       "      <td>1</td>\n",
       "      <td>2</td>\n",
       "      <td>0.696612</td>\n",
       "      <td>1</td>\n",
       "      <td>55</td>\n",
       "    </tr>\n",
       "    <tr>\n",
       "      <th>909</th>\n",
       "      <td>0</td>\n",
       "      <td>19</td>\n",
       "      <td>25</td>\n",
       "      <td>4</td>\n",
       "      <td>0</td>\n",
       "      <td>2994</td>\n",
       "      <td>1</td>\n",
       "      <td>1</td>\n",
       "      <td>1</td>\n",
       "      <td>0.664024</td>\n",
       "      <td>1</td>\n",
       "      <td>910</td>\n",
       "    </tr>\n",
       "    <tr>\n",
       "      <th>354</th>\n",
       "      <td>0</td>\n",
       "      <td>30</td>\n",
       "      <td>25</td>\n",
       "      <td>1</td>\n",
       "      <td>0</td>\n",
       "      <td>4736</td>\n",
       "      <td>7</td>\n",
       "      <td>1</td>\n",
       "      <td>2</td>\n",
       "      <td>0.647243</td>\n",
       "      <td>1</td>\n",
       "      <td>355</td>\n",
       "    </tr>\n",
       "    <tr>\n",
       "      <th>1137</th>\n",
       "      <td>0</td>\n",
       "      <td>22</td>\n",
       "      <td>26</td>\n",
       "      <td>1</td>\n",
       "      <td>0</td>\n",
       "      <td>2814</td>\n",
       "      <td>1</td>\n",
       "      <td>1</td>\n",
       "      <td>4</td>\n",
       "      <td>0.617221</td>\n",
       "      <td>1</td>\n",
       "      <td>1138</td>\n",
       "    </tr>\n",
       "    <tr>\n",
       "      <th>17</th>\n",
       "      <td>0</td>\n",
       "      <td>22</td>\n",
       "      <td>16</td>\n",
       "      <td>1</td>\n",
       "      <td>1</td>\n",
       "      <td>2935</td>\n",
       "      <td>1</td>\n",
       "      <td>1</td>\n",
       "      <td>1</td>\n",
       "      <td>0.598627</td>\n",
       "      <td>1</td>\n",
       "      <td>18</td>\n",
       "    </tr>\n",
       "    <tr>\n",
       "      <th>1413</th>\n",
       "      <td>0</td>\n",
       "      <td>25</td>\n",
       "      <td>2</td>\n",
       "      <td>2</td>\n",
       "      <td>1</td>\n",
       "      <td>3977</td>\n",
       "      <td>6</td>\n",
       "      <td>1</td>\n",
       "      <td>2</td>\n",
       "      <td>0.589179</td>\n",
       "      <td>1</td>\n",
       "      <td>1414</td>\n",
       "    </tr>\n",
       "    <tr>\n",
       "      <th>180</th>\n",
       "      <td>0</td>\n",
       "      <td>31</td>\n",
       "      <td>12</td>\n",
       "      <td>2</td>\n",
       "      <td>0</td>\n",
       "      <td>3929</td>\n",
       "      <td>8</td>\n",
       "      <td>1</td>\n",
       "      <td>4</td>\n",
       "      <td>0.586285</td>\n",
       "      <td>1</td>\n",
       "      <td>181</td>\n",
       "    </tr>\n",
       "    <tr>\n",
       "      <th>474</th>\n",
       "      <td>0</td>\n",
       "      <td>24</td>\n",
       "      <td>23</td>\n",
       "      <td>4</td>\n",
       "      <td>1</td>\n",
       "      <td>2725</td>\n",
       "      <td>1</td>\n",
       "      <td>1</td>\n",
       "      <td>6</td>\n",
       "      <td>0.583544</td>\n",
       "      <td>1</td>\n",
       "      <td>475</td>\n",
       "    </tr>\n",
       "    <tr>\n",
       "      <th>1422</th>\n",
       "      <td>0</td>\n",
       "      <td>35</td>\n",
       "      <td>11</td>\n",
       "      <td>3</td>\n",
       "      <td>1</td>\n",
       "      <td>2660</td>\n",
       "      <td>7</td>\n",
       "      <td>1</td>\n",
       "      <td>2</td>\n",
       "      <td>0.557051</td>\n",
       "      <td>1</td>\n",
       "      <td>1423</td>\n",
       "    </tr>\n",
       "    <tr>\n",
       "      <th>1436</th>\n",
       "      <td>0</td>\n",
       "      <td>21</td>\n",
       "      <td>5</td>\n",
       "      <td>2</td>\n",
       "      <td>1</td>\n",
       "      <td>2380</td>\n",
       "      <td>1</td>\n",
       "      <td>1</td>\n",
       "      <td>2</td>\n",
       "      <td>0.548033</td>\n",
       "      <td>1</td>\n",
       "      <td>1437</td>\n",
       "    </tr>\n",
       "  </tbody>\n",
       "</table>\n",
       "</div>"
      ],
      "text/plain": [
       "      Funcionário_deixou_a_empresa  Idade  Distância_do_trabalho  Formação  \\\n",
       "54                               0     26                     23         4   \n",
       "909                              0     19                     25         4   \n",
       "354                              0     30                     25         1   \n",
       "1137                             0     22                     26         1   \n",
       "17                               0     22                     16         1   \n",
       "1413                             0     25                      2         2   \n",
       "180                              0     31                     12         2   \n",
       "474                              0     24                     23         4   \n",
       "1422                             0     35                     11         3   \n",
       "1436                             0     21                      5         2   \n",
       "\n",
       "      Gênero  Salário  Qte_Empresas_Trabalhadas  Faz_hora_extras?  \\\n",
       "54         0     4157                         7                 1   \n",
       "909        0     2994                         1                 1   \n",
       "354        0     4736                         7                 1   \n",
       "1137       0     2814                         1                 1   \n",
       "17         1     2935                         1                 1   \n",
       "1413       1     3977                         6                 1   \n",
       "180        0     3929                         8                 1   \n",
       "474        1     2725                         1                 1   \n",
       "1422       1     2660                         7                 1   \n",
       "1436       1     2380                         1                 1   \n",
       "\n",
       "      Tempo_de_empresa      Prob  Deixou_Empresa_Predito    ID  \n",
       "54                   2  0.696612                       1    55  \n",
       "909                  1  0.664024                       1   910  \n",
       "354                  2  0.647243                       1   355  \n",
       "1137                 4  0.617221                       1  1138  \n",
       "17                   1  0.598627                       1    18  \n",
       "1413                 2  0.589179                       1  1414  \n",
       "180                  4  0.586285                       1   181  \n",
       "474                  6  0.583544                       1   475  \n",
       "1422                 2  0.557051                       1  1423  \n",
       "1436                 2  0.548033                       1  1437  "
      ]
     },
     "execution_count": 32,
     "metadata": {},
     "output_type": "execute_result"
    }
   ],
   "source": [
    "# 0. Recriar a coluna ID (começando em 1)\n",
    "df_2['ID'] = range(1, len(df_2) + 1)\n",
    "\n",
    "# 1. Filtrar apenas os funcionários que ainda não saíram\n",
    "df_ativos = df_2[df_2['Funcionário_deixou_a_empresa'] == 0]\n",
    "\n",
    "# 2. Ordenar pela probabilidade de saída (decrescente)\n",
    "df_ativos_ordenado = df_ativos.sort_values(by='Prob', ascending=False)\n",
    "\n",
    "# 3. Visualizar os top funcionários em risco\n",
    "df_ativos_ordenado.head(10)"
   ]
  },
  {
   "cell_type": "code",
   "execution_count": 34,
   "id": "26203501",
   "metadata": {},
   "outputs": [],
   "source": [
    "# Recriar coluna ID (se já não existir)\n",
    "df_2['ID'] = range(1, len(df_2) + 1)\n",
    "\n",
    "# Filtrar funcionários que ainda não saíram\n",
    "df_ativos = df_2[df_2['Funcionário_deixou_a_empresa'] == 0]\n",
    "\n",
    "# Ordenar por probabilidade de saída (risco decrescente)\n",
    "df_ativos_ordenado = df_ativos.sort_values(by='Prob', ascending=False)\n",
    "\n",
    "# Criar faixa de risco para facilitar análise\n",
    "df_ativos_ordenado['Risco'] = pd.cut(df_ativos_ordenado['Prob'],\n",
    "                                     bins=[0, 0.3, 0.7, 1],\n",
    "                                     labels=['Baixo', 'Médio', 'Alto'])\n",
    "\n",
    "# Exibir os 10 funcionários ativos com maior risco de saída\n",
    "df_ativos_ordenado[['ID', 'Prob', 'Risco']].head(10)\n",
    "\n",
    "# Visualizar os top funcionários em risco\n",
    "df_ativos_ordenado.head(10)\n",
    "\n",
    "# Exportar resultado final\n",
    "df_ativos_ordenado.to_excel('funcionarios_em_risco.xlsx', index=False)"
   ]
  }
 ],
 "metadata": {
  "kernelspec": {
   "display_name": "Python 3 (ipykernel)",
   "language": "python",
   "name": "python3"
  },
  "language_info": {
   "codemirror_mode": {
    "name": "ipython",
    "version": 3
   },
   "file_extension": ".py",
   "mimetype": "text/x-python",
   "name": "python",
   "nbconvert_exporter": "python",
   "pygments_lexer": "ipython3",
   "version": "3.9.13"
  }
 },
 "nbformat": 4,
 "nbformat_minor": 5
}
